{
 "metadata": {
  "language_info": {
   "codemirror_mode": {
    "name": "ipython",
    "version": 3
   },
   "file_extension": ".py",
   "mimetype": "text/x-python",
   "name": "python",
   "nbconvert_exporter": "python",
   "pygments_lexer": "ipython3",
   "version": "3.7.5-final"
  },
  "orig_nbformat": 2,
  "kernelspec": {
   "name": "python37564bit3823141e1b5d4d6aa5cfe3b8d2b3f10b",
   "display_name": "Python 3.7.5 64-bit"
  }
 },
 "nbformat": 4,
 "nbformat_minor": 2,
 "cells": [
  {
   "cell_type": "code",
   "execution_count": 1,
   "metadata": {},
   "outputs": [],
   "source": [
    "import numpy as np\n",
    "import sys\n",
    "import matplotlib as  plt\n",
    "if \"../\" not in sys.path:\n",
    "  sys.path.append(\"../\")\n"
   ]
  },
  {
   "cell_type": "code",
   "execution_count": 2,
   "metadata": {},
   "outputs": [],
   "source": [
    "def valueIteraction(enviroment,theta=0.0001,discountFactor=1.0):\n",
    "    \"\"\"\n",
    "    #TODO: add definition\n",
    "    #TODO: create a own argmax because it not works\n",
    "    #TODO: comment the code\n",
    "    \"\"\"\n",
    "    V = np.zeros(env.nS) #value function\n",
    "    policy = np.zeros([env.nS,env.nA])\n",
    "    A = np.zeros(env.nA) #best actions \n",
    "    pi = np.zeros(env.nS)\n",
    "\n",
    "    while True:\n",
    "\n",
    "        delta = 0\n",
    "\n",
    "        for s in range(env.nS):\n",
    "\n",
    "            v = V[s] #best action value\n",
    "            \n",
    "            #ecuation\n",
    "            for a in range(env.nA):\n",
    "                for p, nextS, reward, done in enviroment.P[s][a]:\n",
    "                    A[a] = p * (reward + discountFactor * V[nextS])\n",
    "\n",
    "            V[s] = np.max(A)\n",
    "\n",
    "            delta = max(delta,np.abs(v-V[s]))\n",
    "\n",
    "        if delta < theta:\n",
    "            break\n",
    "\n",
    "        #find the optimal value function\n",
    "        for s in range(env.nS):\n",
    "\n",
    "            for a in range(env.nA):\n",
    "                for p, nextS, reward, done in enviroment.P[s][a]:\n",
    "                    A[a] = p * (reward + discountFactor * V[nextS])\n",
    "            \n",
    "\n",
    "            bestAction = np.argmax(A) \n",
    "\n",
    "            policy[s,bestAction] = 1.0\n",
    "    \n",
    "\n",
    "    return policy,V\n",
    "    "
   ]
  },
  {
   "cell_type": "code",
   "execution_count": null,
   "metadata": {},
   "outputs": [],
   "source": []
  }
 ]
}