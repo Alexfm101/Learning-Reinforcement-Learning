{
 "cells": [
  {
   "cell_type": "code",
   "execution_count": 101,
   "metadata": {},
   "outputs": [],
   "source": [
    "import numpy as np\n",
    "import sys\n",
    "if \"../\" not in sys.path:\n",
    "  sys.path.append(\"../\")\n",
    "from Myenviroments.gridWorld import GridWorldEnv\n",
    "import gym"
   ]
  },
  {
   "cell_type": "code",
   "execution_count": 102,
   "metadata": {},
   "outputs": [],
   "source": [
    "env = GridWorldEnv()"
   ]
  },
  {
   "cell_type": "code",
   "execution_count": 103,
   "metadata": {},
   "outputs": [],
   "source": [
    "def policyEvaluation(policy,enviroment,theta=0.00001,discountFactor=1.0):\n",
    "    \"\"\" \n",
    "    #TODO:  add description\n",
    "    \"\"\"\n",
    "    #initialize V(s)\n",
    "    V = np.zeros(enviroment.nS)\n",
    "\n",
    "    while True:\n",
    "        delta = 0\n",
    "\n",
    "        for s in range(enviroment.nS):\n",
    "            v = V[s]\n",
    "            s1 = 0\n",
    "            #first sumatory\n",
    "            for a in range(enviroment.nA):\n",
    "                for p,nextS,reward,don in enviroment.P[s][a]:\n",
    "                    s1 += p *  (reward + discountFactor * V[nextS])\n",
    "            #second sumatory\n",
    "            for a, pi in enumerate(policy[s]):\n",
    "                V[s] = pi * s1\n",
    "\n",
    "            # how much our V have change\n",
    "            delta = max(delta,np.abs(v - V[s]))\n",
    "\n",
    "        if delta < theta:\n",
    "            break\n",
    "\n",
    "    V = np.array(V)\n",
    "    return V"
   ]
  },
  {
   "cell_type": "code",
   "execution_count": 104,
   "metadata": {},
   "outputs": [
    {
     "output_type": "stream",
     "name": "stdout",
     "text": [
      "value function:\n[[  0.         -13.99993529 -19.99990698 -21.99989761]\n [-13.99993529 -17.9999206  -19.99991379 -19.99991477]\n [-19.99990698 -19.99991379 -17.99992725 -13.99994569]\n [-21.99989761 -19.99991477 -13.99994569   0.        ]]\n"
     ]
    }
   ],
   "source": [
    "random_policy = np.ones([env.nS, env.nA]) / env.nA\n",
    "v = policyEvaluation(random_policy, env)\n",
    "print(\"value function:\")\n",
    "print(v.reshape(env.shape))"
   ]
  },
  {
   "cell_type": "code",
   "execution_count": null,
   "metadata": {},
   "outputs": [],
   "source": []
  },
  {
   "cell_type": "code",
   "execution_count": null,
   "metadata": {},
   "outputs": [],
   "source": []
  }
 ],
 "metadata": {
  "kernelspec": {
   "display_name": "Python 3.7.5 64-bit",
   "language": "python",
   "name": "python37564bit3823141e1b5d4d6aa5cfe3b8d2b3f10b"
  },
  "language_info": {
   "codemirror_mode": {
    "name": "ipython",
    "version": 3
   },
   "file_extension": ".py",
   "mimetype": "text/x-python",
   "name": "python",
   "nbconvert_exporter": "python",
   "pygments_lexer": "ipython3",
   "version": "3.7.5-final"
  }
 },
 "nbformat": 4,
 "nbformat_minor": 4
}