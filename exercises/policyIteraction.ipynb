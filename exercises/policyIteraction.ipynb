{
 "metadata": {
  "language_info": {
   "codemirror_mode": {
    "name": "ipython",
    "version": 3
   },
   "file_extension": ".py",
   "mimetype": "text/x-python",
   "name": "python",
   "nbconvert_exporter": "python",
   "pygments_lexer": "ipython3",
   "version": "3.7.5-final"
  },
  "orig_nbformat": 2,
  "kernelspec": {
   "name": "python37564bit3823141e1b5d4d6aa5cfe3b8d2b3f10b",
   "display_name": "Python 3.7.5 64-bit"
  }
 },
 "nbformat": 4,
 "nbformat_minor": 2,
 "cells": [
  {
   "cell_type": "code",
   "execution_count": 8,
   "metadata": {},
   "outputs": [],
   "source": [
    "import numpy as np\n",
    "import pprint\n",
    "import sys\n",
    "if \"../\" not in sys.path:\n",
    "  sys.path.append(\"../\")\n",
    "from Myenviroments.gridWorld import GridWorldEnv\n",
    "import gym"
   ]
  },
  {
   "cell_type": "code",
   "execution_count": 10,
   "metadata": {},
   "outputs": [],
   "source": [
    "pp = pprint.PrettyPrinter(indent=2)\n",
    "env = GridWorldEnv()"
   ]
  },
  {
   "cell_type": "code",
   "execution_count": 12,
   "metadata": {},
   "outputs": [],
   "source": [
    "# function policy Evaluation\n",
    "def policyEvaluation(policy,enviroment,theta=0.00001,discountFactor=1.0):\n",
    "\n",
    "    #initialize V(s)\n",
    "    V = np.zeros(enviroment.nS)\n",
    "\n",
    "    while True:\n",
    "        delta = 0\n",
    "\n",
    "        for s in range(enviroment.nS):\n",
    "            v = 0\n",
    "            #first part of the sumatory iteration\n",
    "            for a, pi in enumerate(policy[s]):\n",
    "                #second sumatory iteration\n",
    "                for p, nextS, reward, done in enviroment.P[s][a]:\n",
    "                    #ecuation\n",
    "                    v += pi * p * (reward + discountFactor * V[nextS])\n",
    "            # how much our V have change\n",
    "            delta = max(delta,np.abs(v - V[s]))\n",
    "        if delta < theta:\n",
    "            break\n",
    "\n",
    "    V = np.array(V)\n",
    "    return V"
   ]
  },
  {
   "cell_type": "code",
   "execution_count": 16,
   "metadata": {},
   "outputs": [
    {
     "output_type": "error",
     "ename": "SyntaxError",
     "evalue": "non-default argument follows default argument (<ipython-input-16-54db1546adcd>, line 3)",
     "traceback": [
      "\u001b[0;36m  File \u001b[0;32m\"<ipython-input-16-54db1546adcd>\"\u001b[0;36m, line \u001b[0;32m3\u001b[0m\n\u001b[0;31m    def policyImprovement(policyEvalFunction,theta=0.00001,discountFactor=1.0,enviroment,v):\u001b[0m\n\u001b[0m                         ^\u001b[0m\n\u001b[0;31mSyntaxError\u001b[0m\u001b[0;31m:\u001b[0m non-default argument follows default argument\n"
     ]
    }
   ],
   "source": [
    "# policy improvement algorithm\n",
    "\n",
    "def policyImprovement(policyEvalFunction,theta=0.00001,discountFactor=1.0,enviroment,v):\n",
    "\n",
    "    \"\"\" policy Improvement \"\"\"\n",
    "\n",
    "    policyStable = True\n",
    "    pi = np.zeros(enviroment.nS)\n",
    "\n",
    "    while True:\n",
    "        for s in range(enviroment.nS):\n",
    "\n",
    "            oldAction = pi[s]\n",
    "\n",
    "            for a in range(enviroment.nA):\n",
    "                for p, nextS, reward, done in enviroment.P[s][a]:\n",
    "                    pi[s] += np.argmax(p * (reward + discountFactor * V(nextS))) \n",
    "            if oldAction != pi[s]:\n",
    "                policyStable = False\n",
    "\n",
    "        pi = np.array(pi)\n",
    "        \n",
    "    return pi, policyStable \n",
    "\n",
    "    \n"
   ]
  },
  {
   "cell_type": "code",
   "execution_count": null,
   "metadata": {},
   "outputs": [],
   "source": []
  }
 ]
}